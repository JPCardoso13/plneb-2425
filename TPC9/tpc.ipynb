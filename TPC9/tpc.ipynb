{
 "cells": [
  {
   "cell_type": "markdown",
   "id": "bb7178bf",
   "metadata": {},
   "source": [
    "# Importação de bibliotecas"
   ]
  },
  {
   "cell_type": "code",
   "id": "initial_id",
   "metadata": {
    "collapsed": true,
    "ExecuteTime": {
     "end_time": "2025-05-05T00:27:49.627126Z",
     "start_time": "2025-05-05T00:27:49.595854Z"
    }
   },
   "source": [
    "import gensim\n",
    "from gensim.models import Word2Vec\n",
    "from gensim.models import KeyedVectors\n",
    "\n",
    "from sklearn.decomposition import PCA\n",
    "\n",
    "# import nltk\n",
    "from nltk.corpus import stopwords\n",
    "\n",
    "import numpy as np\n",
    "import matplotlib.pyplot as plt"
   ],
   "outputs": [],
   "execution_count": 19
  },
  {
   "cell_type": "code",
   "id": "5e69c113",
   "metadata": {
    "ExecuteTime": {
     "end_time": "2025-05-05T00:27:49.647045Z",
     "start_time": "2025-05-05T00:27:49.640123Z"
    }
   },
   "source": [
    "# nltk.download(\"stopwords\")"
   ],
   "outputs": [],
   "execution_count": 20
  },
  {
   "cell_type": "markdown",
   "id": "2116f1cb",
   "metadata": {},
   "source": [
    "# Leitura dos textos e pré-processamento"
   ]
  },
  {
   "cell_type": "code",
   "id": "2e2737d7f110f82e",
   "metadata": {
    "ExecuteTime": {
     "end_time": "2025-05-05T00:27:49.680614Z",
     "start_time": "2025-05-05T00:27:49.667275Z"
    }
   },
   "source": [
    "with open(\"data/Harry_Potter_e_A_Pedra_Filosofal.txt\", encoding=\"utf-8\") as f:\n",
    "    text_content_1 = f.read()\n",
    "\n",
    "with open(\"data/Harry_Potter_Camara_Secreta-br.txt\", encoding=\"utf-8\") as f:\n",
    "    text_content_2 = f.read()"
   ],
   "outputs": [],
   "execution_count": 21
  },
  {
   "cell_type": "code",
   "id": "e0d0d5b4",
   "metadata": {
    "ExecuteTime": {
     "end_time": "2025-05-05T00:27:49.700666Z",
     "start_time": "2025-05-05T00:27:49.689889Z"
    }
   },
   "source": [
    "stop_words = set(stopwords.words('portuguese'))\n",
    "\n",
    "def tokenize(text, remove_stopwords=True):\n",
    "    if remove_stopwords:\n",
    "        return [word for word in gensim.utils.tokenize(text, lower=True, deacc=True) if word not in stop_words]\n",
    "    else:\n",
    "        return list(gensim.utils.tokenize(text, lower=True, deacc=True))"
   ],
   "outputs": [],
   "execution_count": 22
  },
  {
   "cell_type": "code",
   "id": "61c964ff2ce7e117",
   "metadata": {
    "ExecuteTime": {
     "end_time": "2025-05-05T00:27:49.883918Z",
     "start_time": "2025-05-05T00:27:49.708685Z"
    }
   },
   "source": [
    "# Tokenização (com lowercase + desacentuação + exclusão de stopwords)\n",
    "# Nota: Utilizado apenas o conteúdo do primeiro documento nesta fase\n",
    "\n",
    "sents = []\n",
    "for sent in text_content_1.splitlines():\n",
    "    sents.append(tokenize(sent))\n",
    "\n",
    "# Visualizar as 10 primeiras frases do documento\n",
    "print(\"Primeiras 10 frases do documento:\")\n",
    "for sent in sents[:10]:\n",
    "    print(sent)"
   ],
   "outputs": [
    {
     "name": "stdout",
     "output_type": "stream",
     "text": [
      "Primeiras 10 frases do documento:\n",
      "['capitulo']\n",
      "['menino', 'sobreviveu']\n",
      "[]\n",
      "['sr', 'sra', 'dursley', 'rua', 'alfeneiros', 'orgulhavam', 'dizer']\n",
      "['perfeitamente', 'normais', 'bem', 'obrigado', 'ultimas', 'pessoas', 'mundo']\n",
      "['esperaria', 'metessem', 'alguma', 'coisa', 'estranha', 'misteriosa', 'porque', 'simplesmente', 'nao']\n",
      "['compactuavam', 'tipo', 'bobagem']\n",
      "['sr', 'dursley', 'diretor', 'firma', 'chamada', 'grunnings', 'fazia', 'perfuracoes']\n",
      "['homem', 'alto', 'corpulento', 'quase', 'pescoco', 'embora', 'enormes', 'bigodes', 'sra', 'dursley']\n",
      "['magra', 'loura', 'pescoco', 'quase', 'duas', 'vezes', 'comprido', 'normal']\n"
     ]
    }
   ],
   "execution_count": 23
  },
  {
   "cell_type": "markdown",
   "id": "f487ccc2",
   "metadata": {},
   "source": [
    "# Treino do modelo Word2Vec"
   ]
  },
  {
   "cell_type": "code",
   "id": "de75e4f70c32e628",
   "metadata": {
    "ExecuteTime": {
     "end_time": "2025-05-05T00:27:52.130295Z",
     "start_time": "2025-05-05T00:27:49.909014Z"
    }
   },
   "source": [
    "model = Word2Vec(sents, vector_size=200, window=5, min_count=1, sg=1, epochs=20, workers=3, seed=13)  # seed fixa para testar o impacto de diferentes hiperparâmetros"
   ],
   "outputs": [],
   "execution_count": 24
  },
  {
   "cell_type": "code",
   "id": "b49ff8e31a8c49f8",
   "metadata": {
    "ExecuteTime": {
     "end_time": "2025-05-05T00:27:52.149662Z",
     "start_time": "2025-05-05T00:27:52.139001Z"
    }
   },
   "source": [
    "def get_word(word, model):\n",
    "    try:\n",
    "        return model.wv[word]\n",
    "    except KeyError:\n",
    "        print(\"The word '\" + word + \"' does not appear in this model\")"
   ],
   "outputs": [],
   "execution_count": 25
  },
  {
   "cell_type": "code",
   "id": "6a22300536dea5ee",
   "metadata": {
    "ExecuteTime": {
     "end_time": "2025-05-05T00:27:52.168667Z",
     "start_time": "2025-05-05T00:27:52.158661Z"
    }
   },
   "source": [
    "print(f\"Resultado de get_word('dobby'):\\n{get_word('dobby', model)}\")  # Apenas presente no segundo documento\n",
    "print(\"=\"*50)\n",
    "print(f\"Resultado de get_word('grifinoria'):\\n{get_word('grifinoria', model)}\")"
   ],
   "outputs": [
    {
     "name": "stdout",
     "output_type": "stream",
     "text": [
      "The word 'dobby' does not appear in this model\n",
      "Resultado de get_word('dobby'):\n",
      "None\n",
      "==================================================\n",
      "Resultado de get_word('grifinoria'):\n",
      "[ 0.3476799  -0.07634708  0.35610065  0.0965843   0.2081715   0.26678857\n",
      " -0.37559023 -0.20860721 -0.29489386  0.2620407  -0.18658708 -0.0192799\n",
      "  0.29111624  0.01529541  0.02267317 -0.01892079 -0.4578368   0.07359254\n",
      " -0.4896781  -0.03434021  0.3246675  -0.5459714   0.5260205   0.12812391\n",
      " -0.26970726  0.3253477  -0.17243467  0.46745798 -0.27967304 -0.41713992\n",
      "  0.08439384 -0.03689884 -0.3016788   0.59667397  0.25325793  0.30081815\n",
      "  0.06907018  0.23051205  0.15791288 -0.02355909  0.3001863   0.42675975\n",
      "  0.299619   -0.30274767  0.00466533  0.00370185  0.5383449  -0.14779894\n",
      "  0.2019171  -0.4441472  -0.16840357 -0.22115938  0.05656594 -0.06914234\n",
      "  0.20854087  0.39044178 -0.08470216  0.07230695  0.12367465 -0.14644769\n",
      "  0.04343315 -0.00703978  0.13945597  0.30958968  0.17446391  0.30729696\n",
      " -0.1399501   0.06393977  0.03694752  0.33697137  0.22398387 -0.14892182\n",
      " -0.37628794  0.2231475  -0.02419581 -0.15149905  0.24742875  0.45291847\n",
      " -0.14994404 -0.18244779  0.02792348 -0.2041273   0.3069021  -0.08722527\n",
      " -0.407107    0.20693007 -0.03439038 -0.21905373  0.20318262 -0.5295675\n",
      "  0.27452788  0.14713687 -0.12804124 -0.38341776  0.33117393 -0.02507249\n",
      "  0.06660081 -0.42121217  0.30095562 -0.45193142  0.04352097 -0.18299061\n",
      "  0.3114386   0.09601474 -0.01386811  0.02127692  0.17330231 -0.16937697\n",
      " -0.07658554 -0.01496556  0.30823076 -0.3383325  -0.08287524 -0.09391146\n",
      " -0.11293034 -0.21779054 -0.17780103 -0.30731553  0.38483712  0.26222\n",
      " -0.05617954  0.3362101   0.03444676  0.12839647  0.07811572 -0.07191275\n",
      "  0.33456308 -0.63617104 -0.02389945  0.2144161  -0.47547057 -0.13886912\n",
      " -0.02117346  0.03049721 -0.3023968   0.01885605  0.53137094 -0.03745767\n",
      " -0.1633409  -0.28134665  0.06998141 -0.184886    0.09210325  0.06069544\n",
      " -0.3129799   0.25861984  0.02687505 -0.06643333 -0.17366636 -0.15637499\n",
      "  0.28845847 -0.1164052  -0.38182616  0.00808255  0.06082851 -0.3918281\n",
      " -0.27817416 -0.05268641 -0.05203273  0.05964842 -0.07420596 -0.09374583\n",
      "  0.13871747  0.0087832  -0.19102937  0.60978293 -0.00195827 -0.28272977\n",
      " -0.19632767  0.1187271  -0.29685825 -0.16861817 -0.34774795  0.03171577\n",
      "  0.22555134 -0.38174608 -0.06956153  0.1476692   0.13856913  0.26977098\n",
      " -0.14644386 -0.412987    0.00272816 -0.26494142 -0.14014722  0.12182967\n",
      "  0.22339536 -0.0202937  -0.27023292  0.18823084 -0.09766963 -0.31003374\n",
      "  0.49091807  0.09856121  0.09139033  0.03688474  0.22200182  0.18371056\n",
      "  0.35402742 -0.03811682]\n"
     ]
    }
   ],
   "execution_count": 26
  },
  {
   "cell_type": "markdown",
   "id": "b29b9dc8",
   "metadata": {},
   "source": [
    "# Expansão do modelo"
   ]
  },
  {
   "cell_type": "code",
   "id": "24a135042d21fe9f",
   "metadata": {
    "ExecuteTime": {
     "end_time": "2025-05-05T00:27:55.104379Z",
     "start_time": "2025-05-05T00:27:52.185416Z"
    }
   },
   "source": [
    "print(f\"Tamanho da lista de word vectors original: {len(model.wv)}\")\n",
    "\n",
    "# Tokenização do segundo documento\n",
    "more_sents = []\n",
    "for sent in text_content_2.splitlines():\n",
    "    more_sents.append(tokenize(sent))\n",
    "\n",
    "# Aumento do vocabulário\n",
    "model.build_vocab(more_sents, update=True)\n",
    "model.train(more_sents, total_examples=model.corpus_count, epochs=model.epochs)\n",
    "\n",
    "print(f\"Tamanho da lista de word vectors após inclusão do segundo documento: {len(model.wv)}\")\n",
    "print(\"=\"*50)\n",
    "print(f\"Novo resultado para get_word('dobby'):\\n{get_word('dobby', model)}\")"
   ],
   "outputs": [
    {
     "name": "stdout",
     "output_type": "stream",
     "text": [
      "Tamanho da lista de word vectors original: 8102\n",
      "Tamanho da lista de word vectors após inclusão do segundo documento: 12382\n",
      "==================================================\n",
      "Novo resultado para get_word('dobby'):\n",
      "[-0.1095159  -0.23350604  0.27385497  0.4911702   0.37662417  0.7083379\n",
      " -0.34975418 -0.30935687  0.23389094  0.12698174 -0.4347622  -0.8715985\n",
      " -0.4883217  -0.3009306  -0.03191654 -0.30444893  0.4804213   0.29061309\n",
      " -0.40143114  0.41435274 -0.38473305  0.2152127   0.15037929 -0.6999245\n",
      "  0.05500331  0.09666665  0.50877684  0.32115874 -0.48516     0.5532856\n",
      " -0.17056097  0.7500476   0.06762825 -0.00924845 -0.08654718 -0.11013674\n",
      " -0.4743219   0.10620144 -0.07634442  0.56737465  0.3491218   0.02933765\n",
      "  0.09089277 -0.04410932  0.2190715   0.37689525 -0.14713052 -0.6179988\n",
      " -0.0553155   0.64627826 -0.20764586 -0.20140119  0.69440085 -0.48718986\n",
      "  0.65226984 -0.26251793 -0.5254653  -0.62339926 -0.97447103 -0.16450371\n",
      "  0.13982607 -0.3737005   0.1711223  -0.01024566  0.4891012   0.09750685\n",
      " -0.3814151  -0.65984845  0.7360508   0.0576462  -0.06251969  0.41212657\n",
      "  0.56619966  0.18591774 -0.2924841  -0.15098199 -0.20866288 -0.01682957\n",
      "  0.28146827  0.5839928  -0.45320222  0.09164535  0.29533947 -0.30121276\n",
      " -0.1692845   0.16733758  0.8676343   0.752653    0.257714   -0.52377075\n",
      "  0.674452    0.35979208 -0.26061434 -0.39029238  0.21536474  0.41454646\n",
      "  0.39873326 -0.34322172  0.37630683  0.31731632 -0.21379365 -0.42837915\n",
      "  0.1609551   0.00596312  0.34974474 -0.8591469  -0.3954539  -0.20046362\n",
      "  0.64872825  0.13693254  0.49723053  0.2157996   0.15757917 -0.06164891\n",
      "  0.7581343  -0.23932178  0.11573268  0.6624694  -0.21124958 -0.51729107\n",
      " -0.08361503  0.2466445   0.34467667 -0.02220163 -0.01888383  0.7306328\n",
      " -0.08469186 -0.36581174  0.07960333  0.64786035 -0.249254   -0.15372051\n",
      "  0.001356   -0.19874269 -0.39005193  0.5712504  -0.89108616  0.1634005\n",
      " -0.5971032  -1.0371989   0.17143007  0.6347498   0.25793386  0.2926975\n",
      " -0.516582   -0.4031312  -0.01308777 -0.0917377  -0.4403463   0.9989707\n",
      " -0.16276139 -0.73637676 -1.1983532  -0.19895925  0.14565068  0.13721675\n",
      "  0.2767817  -0.18546318 -0.6532566  -0.46816596 -0.50114244 -0.09243383\n",
      "  0.0755795  -0.31143185 -0.64429617 -0.01374424  0.51949894 -0.32401487\n",
      "  0.04350898 -0.17804597  0.30638084 -0.62894857 -0.577922    0.0092736\n",
      "  0.51422006 -0.3330001   0.21661966 -0.23410551  0.32554936  0.21122983\n",
      " -0.19142283  0.67719436  1.008006   -0.6196615   0.03395848  0.46286\n",
      "  0.63431126  0.3044869   0.36521935  0.95039815 -0.77706414  0.03059342\n",
      "  0.46839833 -0.57676435 -0.34366673  0.79824036  0.21293262  0.1945261\n",
      " -0.04902906  0.17019951]\n"
     ]
    }
   ],
   "execution_count": 27
  },
  {
   "cell_type": "markdown",
   "id": "511560ff",
   "metadata": {},
   "source": [
    "# Análise semântica"
   ]
  },
  {
   "cell_type": "code",
   "id": "5ca7210700081269",
   "metadata": {
    "ExecuteTime": {
     "end_time": "2025-05-05T00:27:55.129377Z",
     "start_time": "2025-05-05T00:27:55.113113Z"
    }
   },
   "source": [
    "# Averiguar que palavras não se enquadram com as outras\n",
    "\n",
    "print(\"Palavra que não se enquadra em ['ron', 'hermione', 'harry', 'grifinoria']:\", end=\" \")\n",
    "print(model.wv.doesnt_match([\"ron\", \"hermione\", \"harry\", \"grifinoria\"]))\n",
    "\n",
    "print(\"Palavra que não se enquadra em ['gorila', 'lufa', 'sonserina', 'grifinoria']:\", end=\" \")\n",
    "print(model.wv.doesnt_match([\"gorila\", \"lufa\", \"sonserina\", \"grifinoria\"]))  # Nota: Se 'gorila' não fizesse parte do documento não seria selecionado"
   ],
   "outputs": [
    {
     "name": "stdout",
     "output_type": "stream",
     "text": [
      "Palavra que não se enquadra em ['ron', 'hermione', 'harry', 'grifinoria']: hermione\n",
      "Palavra que não se enquadra em ['gorila', 'lufa', 'sonserina', 'grifinoria']: gorila\n"
     ]
    }
   ],
   "execution_count": 28
  },
  {
   "cell_type": "code",
   "id": "144c8cb9d7816f4a",
   "metadata": {
    "ExecuteTime": {
     "end_time": "2025-05-05T00:27:55.155020Z",
     "start_time": "2025-05-05T00:27:55.145242Z"
    }
   },
   "source": [
    "# Averiguar que palavras mais se assemelham a um determinado termo\n",
    "\n",
    "print(\"Palavras que mais se assemelham a 'harry':\")\n",
    "print(model.wv.most_similar(\"harry\"))\n",
    "\n",
    "print(\"\\nPalavras que mais se assemelham a 'sonserina':\")\n",
    "print(model.wv.most_similar(\"sonserina\"))"
   ],
   "outputs": [
    {
     "name": "stdout",
     "output_type": "stream",
     "text": [
      "Palavras que mais se assemelham a 'harry':\n",
      "[('alarmada', 0.5808079838752747), ('desesperado', 0.5740317702293396), ('hesitante', 0.5732395052909851), ('irmazinha', 0.5693992972373962), ('sonolento', 0.5692123174667358), ('lenta', 0.5664165019989014), ('mudando', 0.5659107565879822), ('convencer', 0.5658520460128784), ('frenetica', 0.5655009746551514), ('pergunte', 0.5647491812705994)]\n",
      "\n",
      "Palavras que mais se assemelham a 'sonserina':\n",
      "[('ansiosas', 0.6880272626876831), ('corvinal', 0.6865432858467102), ('mandam', 0.6817935109138489), ('derrotada', 0.6755936145782471), ('lendario', 0.6701273322105408), ('quintanistas', 0.6637791395187378), ('superiores', 0.6601507067680359), ('lideranca', 0.6548939943313599), ('gargalhadas', 0.6526268124580383), ('zero', 0.6515675187110901)]\n"
     ]
    }
   ],
   "execution_count": 29
  },
  {
   "cell_type": "code",
   "id": "cb8a3d2c3ccf16b0",
   "metadata": {
    "ExecuteTime": {
     "end_time": "2025-05-05T00:27:55.195169Z",
     "start_time": "2025-05-05T00:27:55.188084Z"
    }
   },
   "source": [
    "# Averiguar que palavras mais se assemelham a um determinado\n",
    "# conjunto de termos e se afastam de outro conjunto de termos\n",
    "\n",
    "print(\"Palavras que mais se assemelham a ['harry', 'grifinoria'] e se afastam de ['snape', 'sonserina']:\")\n",
    "print(model.wv.most_similar(positive=[\"harry\", \"grifinoria\"], negative=[\"snape\", \"sonserina\"]))\n",
    "\n",
    "print(\"\\nPalavras que mais se assemelham a ['harry'] e se afastam de ['snape', 'draco']:\")\n",
    "print(model.wv.most_similar(positive=[\"harry\"], negative=[\"snape\", \"draco\"]))"
   ],
   "outputs": [
    {
     "name": "stdout",
     "output_type": "stream",
     "text": [
      "Palavras que mais se assemelham a ['harry', 'grifinoria'] e se afastam de ['snape', 'sonserina']:\n",
      "[('nervosa', 0.2711644172668457), ('sentou', 0.26140096783638), ('ansioso', 0.2597539722919464), ('falta', 0.2498389333486557), ('dormitorio', 0.24725006520748138), ('completamente', 0.24598458409309387), ('desapareceu', 0.2446979433298111), ('passei', 0.24320825934410095), ('encontrou', 0.24292024970054626), ('cadeira', 0.24159497022628784)]\n",
      "\n",
      "Palavras que mais se assemelham a ['harry'] e se afastam de ['snape', 'draco']:\n",
      "[('finalmente', 0.15972399711608887), ('serpensortia', 0.1503465473651886), ('atraves', 0.1402277797460556), ('fungo', 0.13806188106536865), ('rastilho', 0.12477300316095352), ('ptolomeu', 0.1179921105504036), ('amplificada', 0.1022716611623764), ('rictusempra', 0.10157675296068192), ('protestassem', 0.08994095772504807), ('cadeira', 0.08762353658676147)]\n"
     ]
    }
   ],
   "execution_count": 30
  },
  {
   "cell_type": "code",
   "id": "726a8663c0380204",
   "metadata": {
    "ExecuteTime": {
     "end_time": "2025-05-05T00:27:55.244398Z",
     "start_time": "2025-05-05T00:27:55.236750Z"
    }
   },
   "source": [
    "# Valores de similaridade para algumas palavras\n",
    "\n",
    "print(\"Similaridade entre 'harry' e 'draco':\", end=\" \")\n",
    "print(model.wv.similarity(\"harry\", \"draco\"))\n",
    "\n",
    "print(\"Similaridade entre 'sonserina' e 'grifinoria':\", end=\" \")\n",
    "print(model.wv.similarity(\"sonserina\", \"grifinoria\"))\n",
    "\n",
    "print(\"Similaridade entre 'hagrid' e 'dobby':\", end=\" \")\n",
    "print(model.wv.similarity(\"hagrid\", \"dobby\"))\n",
    "\n",
    "print(\"Similaridade entre 'harry' e 'potter':\", end=\" \")\n",
    "print(model.wv.similarity(\"harry\", \"potter\"))"
   ],
   "outputs": [
    {
     "name": "stdout",
     "output_type": "stream",
     "text": [
      "Similaridade entre 'harry' e 'draco': 0.31723344\n",
      "Similaridade entre 'sonserina' e 'grifinoria': 0.47875574\n",
      "Similaridade entre 'hagrid' e 'dobby': 0.21073358\n",
      "Similaridade entre 'harry' e 'potter': 0.22353265\n"
     ]
    }
   ],
   "execution_count": 31
  },
  {
   "cell_type": "markdown",
   "id": "2cba36db",
   "metadata": {},
   "source": [
    "# Salvamento do modelo"
   ]
  },
  {
   "cell_type": "code",
   "id": "a7cc7835eb2dda96",
   "metadata": {
    "ExecuteTime": {
     "end_time": "2025-05-05T00:27:55.409302Z",
     "start_time": "2025-05-05T00:27:55.279239Z"
    }
   },
   "source": [
    "# Salvamento do modelo completo (Incluindo o estado de treino do mesmo)\n",
    "\n",
    "model.save(\"model_harry.model\")\n",
    "\n",
    "model = Word2Vec.load(\"model_harry.model\")"
   ],
   "outputs": [],
   "execution_count": 32
  },
  {
   "cell_type": "code",
   "id": "cc4cfecddb587de7",
   "metadata": {
    "ExecuteTime": {
     "end_time": "2025-05-05T00:27:55.451551Z",
     "start_time": "2025-05-05T00:27:55.420647Z"
    }
   },
   "source": [
    "# Salvamento apenas dos word vectors\n",
    "\n",
    "word_vectors = model.wv\n",
    "word_vectors.save(\"model_harry.wordvectors\")\n",
    "\n",
    "wv = KeyedVectors.load(\"model_harry.wordvectors\")"
   ],
   "outputs": [],
   "execution_count": 33
  },
  {
   "cell_type": "code",
   "id": "be04d5a394004993",
   "metadata": {
    "ExecuteTime": {
     "end_time": "2025-05-05T00:27:58.344855Z",
     "start_time": "2025-05-05T00:27:55.461115Z"
    }
   },
   "source": [
    "# Salvamento em formato textual (compatível com o conversor para o formato do TensorFlow)\n",
    "\n",
    "word_vectors.save_word2vec_format('model_harry.txt', binary=False)\n",
    "\n",
    "model_txt = KeyedVectors.load_word2vec_format('model_harry.txt', binary=False)"
   ],
   "outputs": [],
   "execution_count": 34
  },
  {
   "cell_type": "markdown",
   "id": "0d0eddc1",
   "metadata": {},
   "source": [
    "# Visualização de embeddings com PCA"
   ]
  },
  {
   "cell_type": "code",
   "id": "e899f613",
   "metadata": {
    "ExecuteTime": {
     "end_time": "2025-05-05T00:27:58.358506Z",
     "start_time": "2025-05-05T00:27:58.351817Z"
    }
   },
   "source": [
    "def plot_embeddings(model, palavras):\n",
    "    # Extrair os vetores das palavras\n",
    "    vetores = np.array([get_word(w, model) for w in palavras])\n",
    "\n",
    "    # Reduzir para 2 dimensões com PCA\n",
    "    vetores_2d = PCA(n_components=2).fit_transform(vetores)\n",
    "\n",
    "    # Plot\n",
    "    plt.figure(figsize=(10, 8))\n",
    "    for i, (x, y) in enumerate(vetores_2d):\n",
    "        plt.scatter(x, y, color='r', edgecolors='b')\n",
    "        plt.text(x + 0.02, y + 0.02, palavras[i], fontsize=12)\n",
    "    \n",
    "    plt.title(\"Word Embeddings com PCA\")\n",
    "    plt.grid(True)\n",
    "    plt.show()"
   ],
   "outputs": [],
   "execution_count": 35
  },
  {
   "cell_type": "code",
   "id": "acdc607f",
   "metadata": {
    "ExecuteTime": {
     "end_time": "2025-05-05T00:27:58.836320Z",
     "start_time": "2025-05-05T00:27:58.370187Z"
    }
   },
   "source": [
    "palavras_hp = [\n",
    "    'harry', 'potter', 'ron', 'hermione', 'dumbledore', 'snape', 'draco',\n",
    "    'varinha', 'pocao', 'trouxas', 'magia', 'quadribol', 'grifinoria', \n",
    "    'sonserina', 'corvinal', 'lufa', 'hogwarts', 'malfoy', 'hagrid'\n",
    "]\n",
    "\n",
    "plot_embeddings(model, palavras_hp)"
   ],
   "outputs": [
    {
     "data": {
      "text/plain": [
       "<Figure size 1000x800 with 1 Axes>"
      ],
      "image/png": "[encoded data removed]"
     },
     "metadata": {},
     "output_type": "display_data"
    }
   ],
   "execution_count": 36
  }
 ],
 "metadata": {
  "kernelspec": {
   "display_name": ".venv",
   "language": "python",
   "name": "python3"
  },
  "language_info": {
   "codemirror_mode": {
    "name": "ipython",
    "version": 3
   },
   "file_extension": ".py",
   "mimetype": "text/x-python",
   "name": "python",
   "nbconvert_exporter": "python",
   "pygments_lexer": "ipython3",
   "version": "3.12.9"
  }
 },
 "nbformat": 4,
 "nbformat_minor": 5
}
