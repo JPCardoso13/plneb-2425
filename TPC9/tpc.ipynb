{
 "cells": [
  {
   "cell_type": "markdown",
   "id": "bb7178bf",
   "metadata": {},
   "source": [
    "# Importação de bibliotecas"
   ]
  },
  {
   "cell_type": "code",
   "id": "initial_id",
   "metadata": {
    "collapsed": true,
    "ExecuteTime": {
     "end_time": "2025-05-04T21:57:28.304653Z",
     "start_time": "2025-05-04T21:57:26.150367Z"
    }
   },
   "source": [
    "import gensim\n",
    "from gensim.models import Word2Vec\n",
    "from gensim.models import KeyedVectors\n",
    "\n",
    "from sklearn.decomposition import PCA\n",
    "\n",
    "# import nltk\n",
    "from nltk.corpus import stopwords\n",
    "\n",
    "import numpy as np\n",
    "import matplotlib.pyplot as plt"
   ],
   "outputs": [],
   "execution_count": 1
  },
  {
   "cell_type": "code",
   "id": "5e69c113",
   "metadata": {
    "ExecuteTime": {
     "end_time": "2025-05-04T21:57:28.321311Z",
     "start_time": "2025-05-04T21:57:28.315209Z"
    }
   },
   "source": [
    "# nltk.download(\"stopwords\")"
   ],
   "outputs": [],
   "execution_count": 2
  },
  {
   "cell_type": "markdown",
   "id": "2116f1cb",
   "metadata": {},
   "source": [
    "# Leitura dos textos e pré-processamento"
   ]
  },
  {
   "cell_type": "code",
   "id": "2e2737d7f110f82e",
   "metadata": {
    "ExecuteTime": {
     "end_time": "2025-05-04T21:57:28.339861Z",
     "start_time": "2025-05-04T21:57:28.328526Z"
    }
   },
   "source": [
    "with open(\"data/Harry_Potter_e_A_Pedra_Filosofal.txt\", encoding=\"utf-8\") as f:\n",
    "    text_content_1 = f.read()\n",
    "\n",
    "with open(\"data/Harry_Potter_Camara_Secreta-br.txt\", encoding=\"utf-8\") as f:\n",
    "    text_content_2 = f.read()"
   ],
   "outputs": [],
   "execution_count": 3
  },
  {
   "cell_type": "code",
   "id": "e0d0d5b4",
   "metadata": {
    "ExecuteTime": {
     "end_time": "2025-05-04T21:57:28.352350Z",
     "start_time": "2025-05-04T21:57:28.339861Z"
    }
   },
   "source": [
    "stop_words = set(stopwords.words('portuguese'))\n",
    "\n",
    "def tokenize(text, remove_stopwords=True):\n",
    "    if remove_stopwords:\n",
    "        return [word for word in gensim.utils.tokenize(text, lower=True, deacc=True) if word not in stop_words]\n",
    "    else:\n",
    "        return list(gensim.utils.tokenize(text, lower=True, deacc=True))"
   ],
   "outputs": [],
   "execution_count": 4
  },
  {
   "cell_type": "code",
   "id": "61c964ff2ce7e117",
   "metadata": {
    "ExecuteTime": {
     "end_time": "2025-05-04T21:57:28.517696Z",
     "start_time": "2025-05-04T21:57:28.357699Z"
    }
   },
   "source": [
    "# Tokenização (com lowercase + desacentuação + exclusão de stopwords)\n",
    "# Nota: Utilizado apenas o conteúdo do primeiro documento nesta fase\n",
    "\n",
    "sents = []\n",
    "for sent in text_content_1.splitlines():\n",
    "    sents.append(tokenize(sent))\n",
    "\n",
    "# Visualizar as 10 primeiras frases do documento\n",
    "print(\"Primeiras 10 frases do documento:\")\n",
    "for sent in sents[:10]:\n",
    "    print(sent)"
   ],
   "outputs": [
    {
     "name": "stdout",
     "output_type": "stream",
     "text": [
      "Primeiras 10 frases do documento:\n",
      "['capitulo']\n",
      "['menino', 'sobreviveu']\n",
      "[]\n",
      "['sr', 'sra', 'dursley', 'rua', 'alfeneiros', 'orgulhavam', 'dizer']\n",
      "['perfeitamente', 'normais', 'bem', 'obrigado', 'ultimas', 'pessoas', 'mundo']\n",
      "['esperaria', 'metessem', 'alguma', 'coisa', 'estranha', 'misteriosa', 'porque', 'simplesmente', 'nao']\n",
      "['compactuavam', 'tipo', 'bobagem']\n",
      "['sr', 'dursley', 'diretor', 'firma', 'chamada', 'grunnings', 'fazia', 'perfuracoes']\n",
      "['homem', 'alto', 'corpulento', 'quase', 'pescoco', 'embora', 'enormes', 'bigodes', 'sra', 'dursley']\n",
      "['magra', 'loura', 'pescoco', 'quase', 'duas', 'vezes', 'comprido', 'normal']\n"
     ]
    }
   ],
   "execution_count": 5
  },
  {
   "cell_type": "markdown",
   "id": "f487ccc2",
   "metadata": {},
   "source": [
    "# Treino do modelo Word2Vec"
   ]
  },
  {
   "cell_type": "code",
   "id": "de75e4f70c32e628",
   "metadata": {
    "ExecuteTime": {
     "end_time": "2025-05-04T21:57:31.518700Z",
     "start_time": "2025-05-04T21:57:29.030532Z"
    }
   },
   "source": [
    "model = Word2Vec(sents, vector_size=200, window=5, min_count=1, sg=1, epochs=20, workers=3, seed=13)  # seed fixa para testar o impacto de diferentes hiperparâmetros"
   ],
   "outputs": [],
   "execution_count": 6
  },
  {
   "cell_type": "code",
   "id": "b49ff8e31a8c49f8",
   "metadata": {
    "ExecuteTime": {
     "end_time": "2025-05-04T21:57:31.532580Z",
     "start_time": "2025-05-04T21:57:31.528028Z"
    }
   },
   "source": [
    "def get_word(word, model):\n",
    "    try:\n",
    "        return model.wv[word]\n",
    "    except KeyError:\n",
    "        print(\"The word '\" + word + \"' does not appear in this model\")"
   ],
   "outputs": [],
   "execution_count": 7
  },
  {
   "cell_type": "code",
   "id": "6a22300536dea5ee",
   "metadata": {
    "ExecuteTime": {
     "end_time": "2025-05-04T21:57:31.567402Z",
     "start_time": "2025-05-04T21:57:31.557275Z"
    }
   },
   "source": [
    "print(f\"Resultado de get_word('dobby'):\\n{get_word('dobby', model)}\")  # Apenas presente no segundo documento\n",
    "print(\"=\"*50)\n",
    "print(f\"Resultado de get_word('grifinoria'):\\n{get_word('grifinoria', model)}\")"
   ],
   "outputs": [
    {
     "name": "stdout",
     "output_type": "stream",
     "text": [
      "The word 'dobby' does not appear in this model\n",
      "Resultado de get_word('dobby'):\n",
      "None\n",
      "==================================================\n",
      "Resultado de get_word('grifinoria'):\n",
      "[ 0.17281419 -0.06659344  0.24244146  0.07949327  0.2651499   0.24963562\n",
      " -0.25762945 -0.08201496 -0.32088697  0.47353625 -0.04216252 -0.0058521\n",
      "  0.36709678  0.21413182 -0.00233492 -0.02307616 -0.47031647  0.10711368\n",
      " -0.57712126  0.01497441  0.4051933  -0.62729263  0.4445053   0.14431387\n",
      " -0.14839078  0.14367318 -0.17379232  0.4519144  -0.20187172 -0.2864373\n",
      " -0.01096895  0.09584172 -0.24520703  0.443959    0.2544144   0.421135\n",
      "  0.03029151  0.19180168  0.16022173  0.05336087  0.2524812   0.4290338\n",
      "  0.20481598 -0.23769978 -0.06007948  0.10641112  0.41527316 -0.37103328\n",
      "  0.0440619  -0.64757097 -0.12858573 -0.19012466  0.03836402 -0.05202173\n",
      "  0.262283    0.30420977 -0.12346392  0.07905804  0.17210136 -0.01510656\n",
      " -0.32091445  0.13342305  0.22343567  0.36882153  0.14496332  0.30578786\n",
      " -0.00232373  0.09511098  0.00422135  0.32331377  0.18707165  0.02216612\n",
      " -0.29222697  0.16097628 -0.08900657 -0.19329289  0.3851381   0.3733161\n",
      "  0.00277126 -0.3109674   0.09744745 -0.19799875  0.23905891 -0.16695523\n",
      " -0.47872028  0.26539132 -0.03249403 -0.2407936   0.19601765 -0.47623983\n",
      "  0.29371068  0.23864092 -0.1000362  -0.4594903   0.33692214 -0.0216474\n",
      " -0.04019414 -0.45850852  0.34679508 -0.48042512  0.11692996 -0.31910643\n",
      "  0.3077859   0.14998257 -0.05431919  0.01591489  0.23813577 -0.2217483\n",
      " -0.26167154 -0.07090697  0.35086372 -0.3036658  -0.12658599 -0.04037187\n",
      " -0.16698678 -0.40392902 -0.1867137  -0.25941533  0.3596872   0.13436271\n",
      " -0.06552139  0.42136532 -0.07344522  0.15179348  0.06693227  0.01379516\n",
      "  0.33273453 -0.55723006  0.14583173  0.22422287 -0.39082676 -0.18672416\n",
      "  0.12511393  0.16621163 -0.11350411 -0.03045333  0.35879472  0.08240321\n",
      " -0.10344542 -0.30438957  0.06702525 -0.22344835  0.21830085  0.1202656\n",
      " -0.30639446  0.34157872  0.04773667 -0.01169938 -0.17306094 -0.05649554\n",
      "  0.14902312 -0.11253517 -0.27048185  0.02748909  0.03733603 -0.28165093\n",
      " -0.17636193  0.04636755 -0.06329578  0.09839975 -0.16764459 -0.2313935\n",
      "  0.23817144 -0.020805   -0.07037333  0.5849826  -0.05090149 -0.15788585\n",
      " -0.07656591  0.10626902 -0.14803723  0.00751094 -0.28727683  0.21150702\n",
      "  0.3061043  -0.42275023  0.10321753  0.15513821  0.07945332  0.18174535\n",
      " -0.2529596  -0.4809474   0.07854862 -0.3475341  -0.12495767  0.16074893\n",
      "  0.14389761 -0.08247339 -0.2771842   0.23086919 -0.13438024 -0.26070955\n",
      "  0.43313596  0.21080121  0.03594451  0.0701265   0.17652258  0.18768208\n",
      "  0.26392266 -0.04464629]\n"
     ]
    }
   ],
   "execution_count": 8
  },
  {
   "cell_type": "markdown",
   "id": "b29b9dc8",
   "metadata": {},
   "source": [
    "# Expansão do modelo"
   ]
  },
  {
   "cell_type": "code",
   "id": "24a135042d21fe9f",
   "metadata": {
    "ExecuteTime": {
     "end_time": "2025-05-04T21:57:34.602074Z",
     "start_time": "2025-05-04T21:57:31.617790Z"
    }
   },
   "source": [
    "print(f\"Tamanho da lista de word vectors original: {len(model.wv)}\")\n",
    "\n",
    "# Tokenização do segundo documento\n",
    "more_sents = []\n",
    "for sent in text_content_2.splitlines():\n",
    "    more_sents.append(tokenize(sent))\n",
    "\n",
    "# Aumento do vocabulário\n",
    "model.build_vocab(more_sents, update=True)\n",
    "model.train(more_sents, total_examples=model.corpus_count, epochs=model.epochs)\n",
    "\n",
    "print(f\"Tamanho da lista de word vectors após inclusão do segundo documento: {len(model.wv)}\")\n",
    "print(\"=\"*50)\n",
    "print(f\"Novo resultado para get_word('dobby'):\\n{get_word('dobby', model)}\")"
   ],
   "outputs": [
    {
     "name": "stdout",
     "output_type": "stream",
     "text": [
      "Tamanho da lista de word vectors original: 8102\n",
      "Tamanho da lista de word vectors após inclusão do segundo documento: 12382\n",
      "==================================================\n",
      "Novo resultado para get_word('dobby'):\n",
      "[-0.13352375 -0.25767305  0.21208915  0.5314678   0.6709765   0.78561634\n",
      " -0.22512645 -0.51448935 -0.18824963  0.4475136  -0.7122984  -0.43016443\n",
      " -0.04636244 -0.11132565 -0.38598228 -0.15898108  0.32324016  0.05554712\n",
      " -0.17993988  0.42027748 -0.81697845  0.15652587  0.57886684 -0.7884504\n",
      " -0.2788667  -0.0764038   0.7662305   0.55288815 -0.05442802  0.12015067\n",
      "  0.03882013  0.23739283  0.2891681   0.07006934  0.06300704  0.0258284\n",
      " -0.15328102  0.03512221 -0.00188557  0.5814414   0.45850384  0.20550798\n",
      " -0.08177312 -0.37415332  0.24728952 -0.05376886  0.05858949 -0.7844714\n",
      "  0.10597841  0.6259669  -0.6404992  -0.43605867  0.45696014 -0.05504003\n",
      "  0.6888365  -0.06480117 -0.59678334 -0.4456805  -1.5347359   0.01097532\n",
      "  0.1535674  -0.7899018   0.37852252 -0.19276913  0.37094775 -0.3859848\n",
      " -0.38269028 -0.3769297   0.42865434  0.18270926 -0.09971506  0.5593343\n",
      "  0.43030655  0.21673141  0.02023617 -0.20160401 -0.30465573 -0.27735925\n",
      "  0.34055704  0.9530775  -0.08145424 -0.19204426  0.3456301   0.16725084\n",
      " -0.3394719  -0.49805045  0.79060745  0.53184146  0.5237447  -0.45246527\n",
      "  0.36780512  0.1779208  -0.249733   -0.6712513   0.19256139  0.09302353\n",
      "  0.38122264 -0.35888886 -0.18254079 -0.16566993 -0.08263627 -0.36887363\n",
      "  0.29973677 -0.2723199   0.24423392 -0.7187261  -0.6945672   0.02634572\n",
      "  0.81315917  0.03157888  0.5846284   0.15454182  0.14623916  0.40390417\n",
      "  0.51567984  0.40432036 -0.24325053  0.5934379  -0.2880474  -0.29694822\n",
      "  0.2776407   0.31733906  0.25368327 -0.0639043  -0.29453796  0.30044743\n",
      " -0.08343137 -0.2886891   0.08418468  0.32629114  0.10311813 -0.06711677\n",
      " -0.06379683  0.00368728 -0.4186726   0.1034774  -0.7400488   0.2656441\n",
      " -0.4327747  -1.2328553   0.42471457  0.674012    0.20125665  0.09748063\n",
      " -0.31020918 -0.3389929   0.01526313 -0.00667745 -0.3986707   0.7116028\n",
      " -0.2105652  -0.68176806 -0.9502309  -0.2841935  -0.06372713  0.26278812\n",
      " -0.02329508 -0.08193162 -0.5320569  -0.42640015 -0.25692743  0.28190416\n",
      "  0.09368546 -0.12629813 -0.64176065 -0.07109009  0.14896077 -0.04063446\n",
      "  0.34871927 -0.46434435  0.05056831 -0.635706   -0.48108202  0.21311925\n",
      "  0.7080828  -0.28168067  0.33016366 -0.15306284  0.34651807  0.4113829\n",
      " -0.22468594  0.6202488   0.61878866 -0.8222651  -0.00612711  0.15608455\n",
      "  0.673211   -0.03709463  0.21966772  1.2769552  -0.75655967  0.41537872\n",
      "  0.5012466  -0.19785114 -0.21710876  0.79820544  0.257711    0.2515531\n",
      " -0.24594843  0.29121283]\n"
     ]
    }
   ],
   "execution_count": 9
  },
  {
   "cell_type": "markdown",
   "id": "511560ff",
   "metadata": {},
   "source": [
    "# Análise semântica"
   ]
  },
  {
   "cell_type": "code",
   "id": "5ca7210700081269",
   "metadata": {
    "ExecuteTime": {
     "end_time": "2025-05-04T21:57:34.624716Z",
     "start_time": "2025-05-04T21:57:34.610984Z"
    }
   },
   "source": [
    "# Averiguar que palavras não se enquadram com as outras\n",
    "\n",
    "print(\"Palavra que não se enquadra em ['ron', 'hermione', 'harry', 'grifinoria']:\", end=\" \")\n",
    "print(model.wv.doesnt_match([\"ron\", \"hermione\", \"harry\", \"grifinoria\"]))\n",
    "\n",
    "print(\"Palavra que não se enquadra em ['gorila', 'lufa', 'sonserina', 'grifinoria']:\", end=\" \")\n",
    "print(model.wv.doesnt_match([\"gorila\", \"lufa\", \"sonserina\", \"grifinoria\"]))  # Nota: Se 'gorila' não fizesse parte do documento não seria selecionado"
   ],
   "outputs": [
    {
     "name": "stdout",
     "output_type": "stream",
     "text": [
      "Palavra que não se enquadra em ['ron', 'hermione', 'harry', 'grifinoria']: hermione\n",
      "Palavra que não se enquadra em ['gorila', 'lufa', 'sonserina', 'grifinoria']: gorila\n"
     ]
    }
   ],
   "execution_count": 10
  },
  {
   "cell_type": "code",
   "id": "144c8cb9d7816f4a",
   "metadata": {
    "ExecuteTime": {
     "end_time": "2025-05-04T21:57:34.664238Z",
     "start_time": "2025-05-04T21:57:34.654573Z"
    }
   },
   "source": [
    "# Averiguar que palavras mais se assemelham a um determinado termo\n",
    "\n",
    "print(\"Palavras que mais se assemelham a 'harry':\")\n",
    "print(model.wv.most_similar(\"harry\"))\n",
    "\n",
    "print(\"Palavras que mais se assemelham a 'sonserina':\")\n",
    "print(model.wv.most_similar(\"sonserina\"))"
   ],
   "outputs": [
    {
     "name": "stdout",
     "output_type": "stream",
     "text": [
      "Palavras que mais se assemelham a 'harry':\n",
      "[('esgotaria', 0.5789644122123718), ('lenta', 0.5740768313407898), ('hesitante', 0.5733858346939087), ('sorrir', 0.5722559690475464), ('arreganhar', 0.5672870874404907), ('irmazinha', 0.5672402381896973), ('aguentar', 0.5660010576248169), ('adeus', 0.5648831725120544), ('convencer', 0.5639702677726746), ('incredulos', 0.562674343585968)]\n",
      "Palavras que mais se assemelham a 'sonserina':\n",
      "[('ansiosas', 0.6817702651023865), ('corvinal', 0.6731259822845459), ('derrotada', 0.6725288033485413), ('superiores', 0.6697354912757874), ('mandam', 0.6660163402557373), ('lendario', 0.6612537503242493), ('marcos', 0.6548489928245544), ('gargalhadas', 0.6546388268470764), ('simbolo', 0.6487402319908142), ('clearwater', 0.6463321447372437)]\n"
     ]
    }
   ],
   "execution_count": 11
  },
  {
   "cell_type": "code",
   "id": "cb8a3d2c3ccf16b0",
   "metadata": {
    "ExecuteTime": {
     "end_time": "2025-05-04T21:57:34.705913Z",
     "start_time": "2025-05-04T21:57:34.695159Z"
    }
   },
   "source": [
    "# Averiguar que palavras mais se assemelham a um determinado\n",
    "# conjunto de termos e se afastam de outro conjunto de termos\n",
    "\n",
    "print(\"Palavras que mais se assemelham a ['harry', 'grifinoria'] e se afastam de ['snape', 'sonserina']:\")\n",
    "print(model.wv.most_similar(positive=[\"harry\", \"grifinoria\"], negative=[\"snape\", \"sonserina\"]))\n",
    "\n",
    "print(\"Palavras que mais se assemelham a ['harry'] e se afastam de ['snape', 'draco']:\")\n",
    "print(model.wv.most_similar(positive=[\"harry\"], negative=[\"snape\", \"draco\"]))"
   ],
   "outputs": [
    {
     "name": "stdout",
     "output_type": "stream",
     "text": [
      "Palavras que mais se assemelham a ['harry', 'grifinoria'] e se afastam de ['snape', 'sonserina']:\n",
      "[('resto', 0.28705793619155884), ('sentou', 0.27469611167907715), ('dormitorio', 0.2733459174633026), ('seguida', 0.26901793479919434), ('ansioso', 0.2627153992652893), ('acontecera', 0.26065123081207275), ('fome', 0.26012876629829407), ('falta', 0.25775307416915894), ('observando', 0.2562294006347656), ('rouca', 0.25302794575691223)]\n",
      "Palavras que mais se assemelham a ['harry'] e se afastam de ['snape', 'draco']:\n",
      "[('serpensortia', 0.15603989362716675), ('finalmente', 0.1377442330121994), ('empurrando', 0.1224159523844719), ('atraves', 0.1173025593161583), ('tirando', 0.1138794794678688), ('fungo', 0.10369604825973511), ('encontrou', 0.10242204368114471), ('nauseante', 0.09367471933364868), ('rastilho', 0.09238244593143463), ('chegou', 0.09108652174472809)]\n"
     ]
    }
   ],
   "execution_count": 12
  },
  {
   "cell_type": "code",
   "id": "726a8663c0380204",
   "metadata": {
    "ExecuteTime": {
     "end_time": "2025-05-04T21:57:34.730420Z",
     "start_time": "2025-05-04T21:57:34.715811Z"
    }
   },
   "source": [
    "# Valores de similaridade para algumas palavras\n",
    "\n",
    "print(\"Similaridade entre 'harry' e 'draco':\", end=\" \")\n",
    "print(model.wv.similarity(\"harry\", \"draco\"))\n",
    "\n",
    "print(\"Similaridade entre 'sonserina' e 'grifinoria':\", end=\" \")\n",
    "print(model.wv.similarity(\"sonserina\", \"grifinoria\"))\n",
    "\n",
    "print(\"Similaridade entre 'hagrid' e 'dobby':\", end=\" \")\n",
    "print(model.wv.similarity(\"hagrid\", \"dobby\"))\n",
    "\n",
    "print(\"Similaridade entre 'harry' e 'potter':\", end=\" \")\n",
    "print(model.wv.similarity(\"harry\", \"potter\"))"
   ],
   "outputs": [
    {
     "name": "stdout",
     "output_type": "stream",
     "text": [
      "Similaridade entre 'harry' e 'draco': 0.33038402\n",
      "Similaridade entre 'sonserina' e 'grifinoria': 0.5056126\n",
      "Similaridade entre 'hagrid' e 'dobby': 0.2143961\n",
      "Similaridade entre 'harry' e 'potter': 0.22597277\n"
     ]
    }
   ],
   "execution_count": 13
  },
  {
   "cell_type": "markdown",
   "id": "2cba36db",
   "metadata": {},
   "source": [
    "# Salvamento do modelo"
   ]
  },
  {
   "cell_type": "code",
   "id": "a7cc7835eb2dda96",
   "metadata": {
    "ExecuteTime": {
     "end_time": "2025-05-04T21:57:34.915214Z",
     "start_time": "2025-05-04T21:57:34.772061Z"
    }
   },
   "source": [
    "# Salvamento do modelo completo (Incluindo o estado de treino do mesmo)\n",
    "\n",
    "model.save(\"model_harry.model\")\n",
    "\n",
    "model = Word2Vec.load(\"model_harry.model\")"
   ],
   "outputs": [],
   "execution_count": 14
  },
  {
   "cell_type": "code",
   "id": "cc4cfecddb587de7",
   "metadata": {
    "ExecuteTime": {
     "end_time": "2025-05-04T21:57:34.951307Z",
     "start_time": "2025-05-04T21:57:34.924299Z"
    }
   },
   "source": [
    "# Salvamento apenas dos word vectors\n",
    "\n",
    "word_vectors = model.wv\n",
    "word_vectors.save(\"model_harry.wordvectors\")\n",
    "\n",
    "wv = KeyedVectors.load(\"model_harry.wordvectors\")"
   ],
   "outputs": [],
   "execution_count": 15
  },
  {
   "cell_type": "code",
   "id": "be04d5a394004993",
   "metadata": {
    "ExecuteTime": {
     "end_time": "2025-05-04T21:57:38.268045Z",
     "start_time": "2025-05-04T21:57:34.961485Z"
    }
   },
   "source": [
    "# Salvamento em formato textual (compatível com o conversor para o formato do TensorFlow)\n",
    "\n",
    "word_vectors.save_word2vec_format('model_harry.txt', binary=False)\n",
    "\n",
    "model_txt = KeyedVectors.load_word2vec_format('model_harry.txt', binary=False)"
   ],
   "outputs": [],
   "execution_count": 16
  },
  {
   "cell_type": "markdown",
   "id": "0d0eddc1",
   "metadata": {},
   "source": [
    "# Visualização de embeddings com PCA"
   ]
  },
  {
   "cell_type": "code",
   "id": "e899f613",
   "metadata": {
    "ExecuteTime": {
     "end_time": "2025-05-04T21:57:38.281820Z",
     "start_time": "2025-05-04T21:57:38.275611Z"
    }
   },
   "source": [
    "def plot_embeddings(model, palavras):\n",
    "    # Extrair os vetores das palavras\n",
    "    vetores = np.array([get_word(w, model) for w in palavras])\n",
    "\n",
    "    # Reduzir para 2 dimensões com PCA\n",
    "    vetores_2d = PCA(n_components=2).fit_transform(vetores)\n",
    "\n",
    "    # Plot\n",
    "    plt.figure(figsize=(10, 8))\n",
    "    for i, (x, y) in enumerate(vetores_2d):\n",
    "        plt.scatter(x, y, color='r', edgecolors='b')\n",
    "        plt.text(x + 0.02, y + 0.02, palavras[i], fontsize=12)\n",
    "    \n",
    "    plt.title(\"Word Embeddings com PCA\")\n",
    "    plt.grid(True)\n",
    "    plt.show()"
   ],
   "outputs": [],
   "execution_count": 17
  },
  {
   "cell_type": "code",
   "id": "acdc607f",
   "metadata": {
    "ExecuteTime": {
     "end_time": "2025-05-04T21:57:38.585067Z",
     "start_time": "2025-05-04T21:57:38.290212Z"
    }
   },
   "source": [
    "palavras_hp = [\n",
    "    'harry', 'potter', 'ron', 'hermione', 'dumbledore', 'snape', 'draco',\n",
    "    'varinha', 'pocao', 'trouxas', 'magia', 'quadribol', 'grifinoria', \n",
    "    'sonserina', 'corvinal', 'lufa', 'hogwarts', 'malfoy', 'hagrid'\n",
    "]\n",
    "\n",
    "plot_embeddings(model, palavras_hp)"
   ],
   "outputs": [
    {
     "data": {
      "text/plain": [
       "<Figure size 1000x800 with 1 Axes>"
      ],
      "image/png": "[encoded data removed]"
     },
     "metadata": {},
     "output_type": "display_data"
    }
   ],
   "execution_count": 18
  }
 ],
 "metadata": {
  "kernelspec": {
   "display_name": ".venv",
   "language": "python",
   "name": "python3"
  },
  "language_info": {
   "codemirror_mode": {
    "name": "ipython",
    "version": 3
   },
   "file_extension": ".py",
   "mimetype": "text/x-python",
   "name": "python",
   "nbconvert_exporter": "python",
   "pygments_lexer": "ipython3",
   "version": "3.12.9"
  }
 },
 "nbformat": 4,
 "nbformat_minor": 5
}
