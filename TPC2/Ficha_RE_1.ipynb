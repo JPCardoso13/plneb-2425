{
 "nbformat": 4,
 "nbformat_minor": 0,
 "metadata": {
  "colab": {
   "provenance": [],
   "toc_visible": true
  },
  "kernelspec": {
   "name": "python3",
   "display_name": "Python 3 (ipykernel)",
   "language": "python"
  },
  "language_info": {
   "name": "python"
  }
 },
 "cells": [
  {
   "cell_type": "markdown",
   "source": [
    "# Ficha de Expressões Regulares 1"
   ],
   "metadata": {
    "id": "oVaAea-wCM6H"
   }
  },
  {
   "cell_type": "markdown",
   "source": [
    "### Conceitos básicos de expressões regulares\n",
    "\n",
    "- `a` - corresponde a uma ocorrência do caracter `a`.\n",
    "- `a?` - corresponde a 0 ou 1 ocorrências do caracter `a`.\n",
    "- `a+` - corresponde a 1 ou mais ocorrências do caracter `a`.\n",
    "- `a*` - corresponde a 0 ou mais ocorrências do caracter `a`.\n",
    "- `[abc]` - corresponde a uma ocorrência de um dos caracteres `a`, `b` ou `c`.\n",
    "- `[a-z]` - corresponde a uma ocorrência de um caracter entre `a` e `z`.\n",
    "- `^` - corresponde ao início da string.\n",
    "- `$` - corresponde ao fim da string.\n",
    "- `[^abc]` - corresponde a uma ocorrência de qualquer caracter que não seja `a`, `b` ou `c`.\n",
    "\n",
    "Podemos usar o operador de união para unir várias expressões regulares. Por exemplo: `a|bbb|[^a-z]`, que corresponde a uma das várias (neste caso, 3) expressões regulares que fazem parte da união.\n",
    "\n",
    "Podemos simplificar expressões regulares como `bbb` para `b{3}`, ou seja, 3 ocorrências consecutivas do caracter `b`, neste caso. Outras opções incluem `b{3,}` para 3 ou mais ocorrências ou `b{3,6}` para entre 3 a 6 ocorrências, por exemplo.\n",
    "\n",
    "Para formar grupos de expressões regulares, usamos parênteses. Por exemplo: `((abc)*|[0-9]+)?`. Os operadores após um grupo atuam sobre o grupo.\n",
    "\n",
    "Podemos ainda aplicar modificadores a grupos. Por exemplo, `(?i:teste)` corresponde à expressão \"teste\", escrita com qualquer combinação de maiúsculas e minúsculas (e.g., \"TESTE\", \"tEsTe\", \"TEste\", etc.)."
   ],
   "metadata": {
    "id": "gk5jnHXt9t4y"
   }
  },
  {
   "metadata": {
    "ExecuteTime": {
     "end_time": "2025-02-22T18:27:04.523964Z",
     "start_time": "2025-02-22T18:27:04.516948Z"
    }
   },
   "cell_type": "code",
   "source": [
    "### Informação Global ###\n",
    "\n",
    "# Imports\n",
    "import re\n",
    "\n",
    "# Função para teste dos resultados\n",
    "def test(func, expected_out, *args):\n",
    "    output = func(*args)\n",
    "    status = \"SUCESSO\" if output == expected_out else \"ERRO\"\n",
    "    formatted_args = []\n",
    "    for arg in args:\n",
    "        if isinstance(arg, str):\n",
    "            formatted_args.append(f\"'{arg}'\")\n",
    "        else:\n",
    "            formatted_args.append(str(arg))\n",
    "    print(f\"{func.__name__}({', '.join(formatted_args)})\")\n",
    "    print(f\"Output: {output} ({status})\\n\")"
   ],
   "outputs": [],
   "execution_count": 1
  },
  {
   "cell_type": "markdown",
   "source": [
    "## Exercício 1"
   ],
   "metadata": {
    "id": "yDRt0yOgJ-TW"
   }
  },
  {
   "cell_type": "markdown",
   "source": [
    "### Alínea 1.1\n",
    "\n",
    "Dada uma linha de texto, define um programa que determina se a palavra \"hello\" aparece no início da linha.\n",
    "\n",
    "Conceitos importantes para este exercício:\n",
    "\n",
    "- `re.match(pattern, string[, flags])` - analisa a `string` e tenta encontrar uma correspondência para a expressão regular `pattern` a partir do início da string. Devolve `None` se não encontrar nenhuma correspondência.\n",
    "- `r\"\"` - string correspondente a uma expressão regular."
   ],
   "metadata": {
    "id": "gI05knhniDCr"
   }
  },
  {
   "cell_type": "code",
   "metadata": {
    "id": "ufl-7TGph9WH",
    "ExecuteTime": {
     "end_time": "2025-02-22T18:27:04.610537Z",
     "start_time": "2025-02-22T18:27:04.605418Z"
    }
   },
   "source": [
    "line1 = \"hello world\"\n",
    "line2 = \"goodbye world\"\n",
    "line3 = \"hi, hello there\"\n",
    "line4 = \"hellow world\"\n",
    "\n",
    "def starts_with_hello(line):\n",
    "    return True if re.match(r\"hello\", line) else False\n",
    "\n",
    "test(starts_with_hello, True, line1)\n",
    "test(starts_with_hello, False, line2)\n",
    "test(starts_with_hello, False, line3)\n",
    "test(starts_with_hello, True, line4)"
   ],
   "outputs": [
    {
     "name": "stdout",
     "output_type": "stream",
     "text": [
      "starts_with_hello('hello world')\n",
      "Output: True (SUCESSO)\n",
      "\n",
      "starts_with_hello('goodbye world')\n",
      "Output: False (SUCESSO)\n",
      "\n",
      "starts_with_hello('hi, hello there')\n",
      "Output: False (SUCESSO)\n",
      "\n",
      "starts_with_hello('hellow world')\n",
      "Output: True (SUCESSO)\n",
      "\n"
     ]
    }
   ],
   "execution_count": 2
  },
  {
   "cell_type": "markdown",
   "source": [
    "### Alínea 1.2\n",
    "\n",
    "Dada uma linha de texto, define um programa que determina se a palavra \"hello\" aparece em qualquer posição da linha.\n",
    "\n",
    "Conceitos importantes para este exercício:\n",
    "\n",
    "- `re.search(pattern, string[, flags])` - analisa a `string` e tenta encontrar uma correspondência para a expressão regular `pattern` em qualquer posição da string. Devolve `None` se não encontrar nenhuma correspondência."
   ],
   "metadata": {
    "id": "gzgOACqiJ7VN"
   }
  },
  {
   "cell_type": "code",
   "metadata": {
    "id": "TM-qMl-yJ7VS",
    "ExecuteTime": {
     "end_time": "2025-02-22T18:27:05.100216Z",
     "start_time": "2025-02-22T18:27:05.094744Z"
    }
   },
   "source": [
    "line1 = \"hello world\"\n",
    "line2 = \"goodbye world\"\n",
    "line3 = \"hi, hello there\"\n",
    "\n",
    "def has_hello(line):\n",
    "    return True if re.search(r\"hello\", line) else False\n",
    "\n",
    "test(has_hello, True, line1)\n",
    "test(has_hello, False, line2)\n",
    "test(has_hello, True, line3)"
   ],
   "outputs": [
    {
     "name": "stdout",
     "output_type": "stream",
     "text": [
      "has_hello('hello world')\n",
      "Output: True (SUCESSO)\n",
      "\n",
      "has_hello('goodbye world')\n",
      "Output: False (SUCESSO)\n",
      "\n",
      "has_hello('hi, hello there')\n",
      "Output: True (SUCESSO)\n",
      "\n"
     ]
    }
   ],
   "execution_count": 3
  },
  {
   "cell_type": "markdown",
   "source": [
    "### Alínea 1.3\n",
    "\n",
    "Dada uma linha de texto, define um programa que pesquisa por todas as ocorrências da palavra \"hello\" dentro da linha, admitindo que a palavra seja escrita com maiúsculas ou minúsculas.\n",
    "\n",
    "Conceitos importantes para este exercício:\n",
    "\n",
    "- `re.findall(pattern, string[, flags])` - encontra todas as correspondências que não se sobreponham da expressão regular `pattern` na `string`. Devolve uma lista."
   ],
   "metadata": {
    "id": "6ZE7klswOy90"
   }
  },
  {
   "cell_type": "code",
   "source": [
    "line = \"Hello there! Uh, hi, hello, it's me... Heyyy, hello? HELLO!\"\n",
    "\n",
    "def find_hellos(line):\n",
    "    return re.findall(r\"hello\", line, re.IGNORECASE)\n",
    "\n",
    "test(find_hellos, ['Hello', 'hello', 'hello', 'HELLO'], line)"
   ],
   "metadata": {
    "id": "aHB_l7g5OzNY",
    "ExecuteTime": {
     "end_time": "2025-02-22T18:27:05.118621Z",
     "start_time": "2025-02-22T18:27:05.113240Z"
    }
   },
   "outputs": [
    {
     "name": "stdout",
     "output_type": "stream",
     "text": [
      "find_hellos('Hello there! Uh, hi, hello, it's me... Heyyy, hello? HELLO!')\n",
      "Output: ['Hello', 'hello', 'hello', 'HELLO'] (SUCESSO)\n",
      "\n"
     ]
    }
   ],
   "execution_count": 4
  },
  {
   "cell_type": "markdown",
   "source": [
    "### Alínea 1.4\n",
    "\n",
    "Dada uma linha de texto, define um programa que pesquisa por todas as ocorrências da palavra \"hello\" dentro da linha, substituindo cada uma por \"\\*YEP\\*\".\n",
    "\n",
    "Conceitos importantes para este exercício:\n",
    "\n",
    "- `re.sub(pattern, replacement, string, count = 0, flags = 0)` - substitui todas as correspondências da expressão regular `pattern` na `string` por `replacement`. `replacement` pode ser uma string, uma expressão regular ou uma função que recebe uma correspondência e devolve uma string. O parâmetro `count` determina o limite de substituições (por defeito é 0, ou seja, não há limite)."
   ],
   "metadata": {
    "id": "TSwUj26OPRmP"
   }
  },
  {
   "cell_type": "code",
   "source": [
    "line = \"Hello there! Uh, hi, hello, it's me... Heyyy, hello? HELLO!\"\n",
    "\n",
    "def replace_hellos(line):\n",
    "    return re.sub(r\"hello\", r\"*YEP*\", line, flags=re.IGNORECASE)\n",
    "\n",
    "test(replace_hellos, \"*YEP* there! Uh, hi, *YEP*, it's me... Heyyy, *YEP*? *YEP*!\", line)"
   ],
   "metadata": {
    "id": "SXLK2rhMPf11",
    "ExecuteTime": {
     "end_time": "2025-02-22T18:27:05.209314Z",
     "start_time": "2025-02-22T18:27:05.203668Z"
    }
   },
   "outputs": [
    {
     "name": "stdout",
     "output_type": "stream",
     "text": [
      "replace_hellos('Hello there! Uh, hi, hello, it's me... Heyyy, hello? HELLO!')\n",
      "Output: *YEP* there! Uh, hi, *YEP*, it's me... Heyyy, *YEP*? *YEP*! (SUCESSO)\n",
      "\n"
     ]
    }
   ],
   "execution_count": 5
  },
  {
   "cell_type": "markdown",
   "source": [
    "### Alínea 1.5\n",
    "\n",
    "Dada uma linha de texto, define um programa que pesquisa por todas as ocorrências do caracter vírgula, separando cada parte da linha por esse caracter.\n",
    "\n",
    "Conceitos importantes para este exercício:\n",
    "\n",
    "- `re.split(pattern, string, maxsplit = 0, flags = 0)` - divide a `string` com base nas correspondências da expressão regular `pattern`. O parâmetro `maxsplit` pode ser usado para definir um limite de divisões (por defeito é 0, que corresponde a divisões infinitas)."
   ],
   "metadata": {
    "id": "MrgsEzJCPgbO"
   }
  },
  {
   "cell_type": "code",
   "source": [
    "line = \"bananas, laranjas, maçãs, uvas, melancias, cerejas, kiwis, etc.\"\n",
    "\n",
    "def separate_by_comma(line):\n",
    "    return re.split(r\",\", line)\n",
    "\n",
    "test(separate_by_comma, ['bananas', ' laranjas', ' maçãs', ' uvas', ' melancias', ' cerejas', ' kiwis', ' etc.'], line)"
   ],
   "metadata": {
    "id": "vrwiid6XPgvg",
    "ExecuteTime": {
     "end_time": "2025-02-22T18:27:05.251477Z",
     "start_time": "2025-02-22T18:27:05.245405Z"
    }
   },
   "outputs": [
    {
     "name": "stdout",
     "output_type": "stream",
     "text": [
      "separate_by_comma('bananas, laranjas, maçãs, uvas, melancias, cerejas, kiwis, etc.')\n",
      "Output: ['bananas', ' laranjas', ' maçãs', ' uvas', ' melancias', ' cerejas', ' kiwis', ' etc.'] (SUCESSO)\n",
      "\n"
     ]
    }
   ],
   "execution_count": 6
  },
  {
   "cell_type": "markdown",
   "source": [
    "## Exercício 2\n",
    "\n",
    "Define a função `palavra_magica` que recebe uma frase e determina se a mesma termina com a expressão \"por favor\", seguida de um sinal válido de pontuação."
   ],
   "metadata": {
    "id": "6QP0erT4iSzE"
   }
  },
  {
   "cell_type": "code",
   "source": [
    "def palavra_magica(frase):\n",
    "  return True if re.search(r\"\\bpor favor(\\?|\\.{1,3}|!\\?)$\", frase, re.IGNORECASE) else False\n",
    "\n",
    "test(palavra_magica, True, \"Posso ir à casa de banho, por favor?\")\n",
    "test(palavra_magica, False, \"Preciso de um favor...\")\n",
    "test(palavra_magica, True, \"Faz isso, por FaVOr!?\")\n",
    "test(palavra_magica, False, \"Faz-me um favor, apor FaVOr!\")"
   ],
   "metadata": {
    "id": "MhCC49z7jU7n",
    "ExecuteTime": {
     "end_time": "2025-02-22T18:27:05.289636Z",
     "start_time": "2025-02-22T18:27:05.284259Z"
    }
   },
   "outputs": [
    {
     "name": "stdout",
     "output_type": "stream",
     "text": [
      "palavra_magica('Posso ir à casa de banho, por favor?')\n",
      "Output: True (SUCESSO)\n",
      "\n",
      "palavra_magica('Preciso de um favor...')\n",
      "Output: False (SUCESSO)\n",
      "\n",
      "palavra_magica('Faz isso, por FaVOr!?')\n",
      "Output: True (SUCESSO)\n",
      "\n",
      "palavra_magica('Faz-me um favor, apor FaVOr!')\n",
      "Output: False (SUCESSO)\n",
      "\n"
     ]
    }
   ],
   "execution_count": 7
  },
  {
   "cell_type": "markdown",
   "source": [
    "## Exercício 3\n",
    "\n",
    "Define a função `narcissismo` que calcula quantas vezes a palavra \"eu\" aparece numa string."
   ],
   "metadata": {
    "id": "L71wvPCujpBD"
   }
  },
  {
   "cell_type": "code",
   "source": [
    "def narcissismo(linha):\n",
    "  return len(re.findall(r\"\\beu\\b\", linha, re.IGNORECASE))\n",
    "\n",
    "test(narcissismo, 6, \"Eu não sei se eu quero continuar a ser eu. Por outro lado, eu ser eu é uma parte importante de quem EU sou.\")"
   ],
   "metadata": {
    "id": "0HxFCow5nOj8",
    "ExecuteTime": {
     "end_time": "2025-02-22T18:27:05.341306Z",
     "start_time": "2025-02-22T18:27:05.335688Z"
    }
   },
   "outputs": [
    {
     "name": "stdout",
     "output_type": "stream",
     "text": [
      "narcissismo('Eu não sei se eu quero continuar a ser eu. Por outro lado, eu ser eu é uma parte importante de quem EU sou.')\n",
      "Output: 6 (SUCESSO)\n",
      "\n"
     ]
    }
   ],
   "execution_count": 8
  },
  {
   "cell_type": "markdown",
   "source": [
    "## Exercício 4\n",
    "\n",
    "Define a função `troca_de_curso` que substitui todas as ocorrências de \"LEI\" numa linha pelo nome do curso dado à função."
   ],
   "metadata": {
    "id": "EKETfRaOolO4"
   }
  },
  {
   "cell_type": "code",
   "source": [
    "def troca_de_curso(linha, novo_curso):\n",
    "  return re.sub(r\"\\bLEI\\b\", novo_curso, linha)\n",
    "\n",
    "test(troca_de_curso, \"ser calceteiro marítimo é o melhor curso! Adoro ser calceteiro marítimo! Gostar de ser calceteiro marítimo devia ser uma lei.\",\n",
    "     \"LEI é o melhor curso! Adoro LEI! Gostar de LEI devia ser uma lei.\", \"ser calceteiro marítimo\")"
   ],
   "metadata": {
    "id": "8ZVPMxfZpRrx",
    "ExecuteTime": {
     "end_time": "2025-02-22T18:27:05.374912Z",
     "start_time": "2025-02-22T18:27:05.369406Z"
    }
   },
   "outputs": [
    {
     "name": "stdout",
     "output_type": "stream",
     "text": [
      "troca_de_curso('LEI é o melhor curso! Adoro LEI! Gostar de LEI devia ser uma lei.', 'ser calceteiro marítimo')\n",
      "Output: ser calceteiro marítimo é o melhor curso! Adoro ser calceteiro marítimo! Gostar de ser calceteiro marítimo devia ser uma lei. (SUCESSO)\n",
      "\n"
     ]
    }
   ],
   "execution_count": 9
  },
  {
   "cell_type": "markdown",
   "source": [
    "## Exercício 5\n",
    "\n",
    "Define a função `soma_string` que recebe uma string com vários números separados por uma vírgula (e.g., \"1,2,3,4,5\") e devolve a soma destes números."
   ],
   "metadata": {
    "id": "GZKMkTKcp886"
   }
  },
  {
   "cell_type": "code",
   "source": [
    "def soma_string(linha):\n",
    "  return sum(int(num) for num in re.split(\",\", linha))\n",
    "\n",
    "test(soma_string, 6, \"4,-6,2,3,8,-3,0,2,-5,1\")"
   ],
   "metadata": {
    "id": "ExqmZwj_rzuR",
    "ExecuteTime": {
     "end_time": "2025-02-22T18:27:05.423159Z",
     "start_time": "2025-02-22T18:27:05.418284Z"
    }
   },
   "outputs": [
    {
     "name": "stdout",
     "output_type": "stream",
     "text": [
      "soma_string('4,-6,2,3,8,-3,0,2,-5,1')\n",
      "Output: 6 (SUCESSO)\n",
      "\n"
     ]
    }
   ],
   "execution_count": 10
  },
  {
   "cell_type": "markdown",
   "source": [
    "## Exercício 6\n",
    "\n",
    "Define a função `pronomes` que encontra e devolve todos os pronomes pessoais presentes numa frase, i.e., \"eu\", \"tu\", \"ele\", \"ela\", etc., com atenção para letras maiúsculas ou minúsculas."
   ],
   "metadata": {
    "id": "n49iafoNzw-3"
   }
  },
  {
   "cell_type": "code",
   "source": [
    "def pronomes(frase):\n",
    "    return re.findall(r\"\\b(eu|tu|el[ea]|nós|vós|el[ea]s)\\b\", frase, re.IGNORECASE)\n",
    "\n",
    "test(pronomes, ['EU', 'eu', 'nós', 'nÓs', 'eLAs', 'elas', 'tu', 'TU'], \"EU sou eu e nós somos nÓs e eLAs são elas e tu não és TU, mEU deus\")"
   ],
   "metadata": {
    "id": "RnuCrz2H0DWq",
    "ExecuteTime": {
     "end_time": "2025-02-22T18:27:05.467305Z",
     "start_time": "2025-02-22T18:27:05.461793Z"
    }
   },
   "outputs": [
    {
     "name": "stdout",
     "output_type": "stream",
     "text": [
      "pronomes('EU sou eu e nós somos nÓs e eLAs são elas e tu não és TU, mEU deus')\n",
      "Output: ['EU', 'eu', 'nós', 'nÓs', 'eLAs', 'elas', 'tu', 'TU'] (SUCESSO)\n",
      "\n"
     ]
    }
   ],
   "execution_count": 11
  },
  {
   "cell_type": "markdown",
   "source": [
    "## Exercício 7\n",
    "\n",
    "Define a função `variavel_valida` que recebe uma string e determina se a mesma é um nome válido para uma variável, ou seja, se começa por uma letra e apenas contém letras, números ou *underscores*."
   ],
   "metadata": {
    "id": "BHMk88OQ0XFY"
   }
  },
  {
   "cell_type": "code",
   "source": [
    "def variavel_valida(palavra):\n",
    "    return ''.join(re.findall(r'^[a-zA-Z]\\w*', palavra)) == palavra\n",
    "    # Alternativa: return True if re.fullmatch(r\"[a-zA-Z]\\w*\", palavra) else False\n",
    "\n",
    "test(variavel_valida, True, \"var_1\")\n",
    "test(variavel_valida, False, \"var 1\")\n",
    "test(variavel_valida, False, \"variável 1\")\n",
    "test(variavel_valida, False, \"_var_1\")"
   ],
   "metadata": {
    "id": "YTQW91Ws1WLx",
    "ExecuteTime": {
     "end_time": "2025-02-22T18:27:05.536237Z",
     "start_time": "2025-02-22T18:27:05.529999Z"
    }
   },
   "outputs": [
    {
     "name": "stdout",
     "output_type": "stream",
     "text": [
      "variavel_valida('var_1')\n",
      "Output: True (SUCESSO)\n",
      "\n",
      "variavel_valida('var 1')\n",
      "Output: False (SUCESSO)\n",
      "\n",
      "variavel_valida('variável 1')\n",
      "Output: False (SUCESSO)\n",
      "\n",
      "variavel_valida('_var_1')\n",
      "Output: False (SUCESSO)\n",
      "\n"
     ]
    }
   ],
   "execution_count": 12
  },
  {
   "cell_type": "markdown",
   "source": [
    "## Exercício 8\n",
    "\n",
    "Define a função `inteiros` que devolve todos os números inteiros presentes numa string. Um número inteiro pode conter um ou mais dígitos e pode ser positivo ou negativo."
   ],
   "metadata": {
    "id": "ZRWbgkMM5qzx"
   }
  },
  {
   "cell_type": "code",
   "source": [
    "def inteiros(string):\n",
    "    return re.findall(r\"-?\\d+\", string)\n",
    "\n",
    "test(inteiros, ['13', '14', '-3'], \"Hoje estão 13 graus, que é menos que14graus mas mais que -3 graus\")"
   ],
   "metadata": {
    "id": "jsmiEi6gA7vh",
    "ExecuteTime": {
     "end_time": "2025-02-22T18:27:05.611136Z",
     "start_time": "2025-02-22T18:27:05.605664Z"
    }
   },
   "outputs": [
    {
     "name": "stdout",
     "output_type": "stream",
     "text": [
      "inteiros('Hoje estão 13 graus, que é menos que14graus mas mais que -3 graus')\n",
      "Output: ['13', '14', '-3'] (SUCESSO)\n",
      "\n"
     ]
    }
   ],
   "execution_count": 13
  },
  {
   "cell_type": "markdown",
   "source": [
    "## Exercício 9\n",
    "\n",
    "Define a função `underscores` que substitui todos os espaços numa string por *underscores*. Se aparecerem vários espaços seguidos, devem ser substituídos por apenas um *underscore*."
   ],
   "metadata": {
    "id": "QhpGhtBT7aD3"
   }
  },
  {
   "cell_type": "code",
   "source": [
    "def underscores(string):\n",
    "    return re.sub(r\"\\s+\", \"_\", string)\n",
    "\n",
    "test(underscores, \"_esta_string_tem_bastantes_espaços,_espaços_são_horríveis!\", \"  esta string tem  bastantes espaços, espaços são       horríveis!\")"
   ],
   "metadata": {
    "id": "1YTIkZT-6Ase",
    "ExecuteTime": {
     "end_time": "2025-02-22T18:27:05.662130Z",
     "start_time": "2025-02-22T18:27:05.657003Z"
    }
   },
   "outputs": [
    {
     "name": "stdout",
     "output_type": "stream",
     "text": [
      "underscores('  esta string tem  bastantes espaços, espaços são       horríveis!')\n",
      "Output: _esta_string_tem_bastantes_espaços,_espaços_são_horríveis! (SUCESSO)\n",
      "\n"
     ]
    }
   ],
   "execution_count": 14
  },
  {
   "cell_type": "markdown",
   "source": [
    "## Exercício 10\n",
    "\n",
    "Define a função `codigos_postais` que recebe uma lista de códigos postais válidos e divide-os com base no hífen. A função deve devolver uma lista de pares."
   ],
   "metadata": {
    "id": "xcUrRlIy8uof"
   }
  },
  {
   "cell_type": "code",
   "source": [
    "lista = [\n",
    "    \"4700-000\",\n",
    "    \"1234-567\",\n",
    "    \"8541-543\",\n",
    "    \"4123-974\",\n",
    "    \"9481-025\"\n",
    "]\n",
    "\n",
    "def codigos_postais(lista_codigos):\n",
    "    return [tuple(re.split(\"-\", codigo)) for codigo in lista_codigos]\n",
    "\n",
    "test(codigos_postais, [('4700', '000'), ('1234', '567'), ('8541', '543'), ('4123', '974'), ('9481', '025')], lista)"
   ],
   "metadata": {
    "id": "6xj01Oy09ncO",
    "ExecuteTime": {
     "end_time": "2025-02-22T18:27:05.707477Z",
     "start_time": "2025-02-22T18:27:05.701968Z"
    }
   },
   "outputs": [
    {
     "name": "stdout",
     "output_type": "stream",
     "text": [
      "codigos_postais(['4700-000', '1234-567', '8541-543', '4123-974', '9481-025'])\n",
      "Output: [('4700', '000'), ('1234', '567'), ('8541', '543'), ('4123', '974'), ('9481', '025')] (SUCESSO)\n",
      "\n"
     ]
    }
   ],
   "execution_count": 15
  }
 ]
}
